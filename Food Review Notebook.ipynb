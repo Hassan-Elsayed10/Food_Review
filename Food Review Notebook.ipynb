{
 "cells": [
  {
   "cell_type": "markdown",
   "metadata": {},
   "source": [
    "### Problem Description"
   ]
  },
  {
   "cell_type": "markdown",
   "metadata": {},
   "source": [
    "This dataset consists of reviews of fine foods from amazon. The data span a period of more than 10 years, including all ~500,000 reviews up to October 2012. Reviews include product and user information, ratings, and a plain text review. It also includes reviews from all other Amazon categories.\n",
    "### link: https://www.kaggle.com/snap/amazon-fine-food-reviews?select=Reviews.csv"
   ]
  },
  {
   "cell_type": "markdown",
   "metadata": {},
   "source": [
    "### Import Packages"
   ]
  },
  {
   "cell_type": "code",
   "execution_count": 40,
   "metadata": {},
   "outputs": [],
   "source": [
    "# Add environment Packages paths to conda\n",
    "import os, sys\n",
    "# env_name = \"food_review\"\n",
    "# sys.path.append(f\"C:\\\\Environments\\\\{env_name}\\\\lib\\\\site-packages\\\\\")\n",
    "\n",
    "import pandas as pd\n",
    "import numpy as np\n",
    "\n",
    "# Text preprocessing packages\n",
    "import nltk # Text libarary\n",
    "#nltk.download('stopwords')\n",
    "import string # Removing special characters {#, @, ...}\n",
    "import re # Regex Package\n",
    "from nltk.corpus import stopwords # Stopwords\n",
    "from nltk.stem import SnowballStemmer, WordNetLemmatizer # Stemmer & Lemmatizer\n",
    "from gensim.utils import simple_preprocess  # Text ==> List of Tokens\n",
    "\n",
    "# Text Embedding\n",
    "from sklearn.feature_extraction.text import TfidfVectorizer\n",
    "from sklearn.metrics import confusion_matrix\n",
    "\n",
    "# Modelling\n",
    "from sklearn.model_selection import train_test_split\n",
    "from sklearn.ensemble import RandomForestClassifier\n",
    "from sklearn.metrics import accuracy_score\n",
    "\n",
    "# Saving Model\n",
    "import pickle\n",
    "\n",
    "# Visualization Packages\n",
    "import seaborn as sns\n",
    "import matplotlib.pyplot as plt\n",
    "sns.set(font_scale=1.3)\n",
    "%matplotlib inline"
   ]
  },
  {
   "cell_type": "markdown",
   "metadata": {},
   "source": [
    "### Read Dataset"
   ]
  },
  {
   "cell_type": "code",
   "execution_count": 41,
   "metadata": {},
   "outputs": [
    {
     "name": "stdout",
     "output_type": "stream",
     "text": [
      "Wall time: 3.19 s\n"
     ]
    }
   ],
   "source": [
    "%%time\n",
    "df = pd.read_csv('Reviews.csv')"
   ]
  },
  {
   "cell_type": "code",
   "execution_count": 42,
   "metadata": {},
   "outputs": [
    {
     "data": {
      "text/plain": [
       "'568,454 Review'"
      ]
     },
     "execution_count": 42,
     "metadata": {},
     "output_type": "execute_result"
    }
   ],
   "source": [
    "f\"{df.shape[0]:,} Review\""
   ]
  },
  {
   "cell_type": "code",
   "execution_count": 43,
   "metadata": {},
   "outputs": [
    {
     "data": {
      "text/html": [
       "<div>\n",
       "<style scoped>\n",
       "    .dataframe tbody tr th:only-of-type {\n",
       "        vertical-align: middle;\n",
       "    }\n",
       "\n",
       "    .dataframe tbody tr th {\n",
       "        vertical-align: top;\n",
       "    }\n",
       "\n",
       "    .dataframe thead th {\n",
       "        text-align: right;\n",
       "    }\n",
       "</style>\n",
       "<table border=\"1\" class=\"dataframe\">\n",
       "  <thead>\n",
       "    <tr style=\"text-align: right;\">\n",
       "      <th></th>\n",
       "      <th>Text</th>\n",
       "      <th>Score</th>\n",
       "    </tr>\n",
       "  </thead>\n",
       "  <tbody>\n",
       "    <tr>\n",
       "      <th>0</th>\n",
       "      <td>I have bought several of the Vitality canned d...</td>\n",
       "      <td>5</td>\n",
       "    </tr>\n",
       "    <tr>\n",
       "      <th>1</th>\n",
       "      <td>Product arrived labeled as Jumbo Salted Peanut...</td>\n",
       "      <td>1</td>\n",
       "    </tr>\n",
       "    <tr>\n",
       "      <th>2</th>\n",
       "      <td>This is a confection that has been around a fe...</td>\n",
       "      <td>4</td>\n",
       "    </tr>\n",
       "    <tr>\n",
       "      <th>3</th>\n",
       "      <td>If you are looking for the secret ingredient i...</td>\n",
       "      <td>2</td>\n",
       "    </tr>\n",
       "    <tr>\n",
       "      <th>4</th>\n",
       "      <td>Great taffy at a great price.  There was a wid...</td>\n",
       "      <td>5</td>\n",
       "    </tr>\n",
       "  </tbody>\n",
       "</table>\n",
       "</div>"
      ],
      "text/plain": [
       "                                                Text  Score\n",
       "0  I have bought several of the Vitality canned d...      5\n",
       "1  Product arrived labeled as Jumbo Salted Peanut...      1\n",
       "2  This is a confection that has been around a fe...      4\n",
       "3  If you are looking for the secret ingredient i...      2\n",
       "4  Great taffy at a great price.  There was a wid...      5"
      ]
     },
     "execution_count": 43,
     "metadata": {},
     "output_type": "execute_result"
    }
   ],
   "source": [
    "cols = ['Text', 'Score']\n",
    "df_text = df[cols].copy()\n",
    "df_text.head()\n"
   ]
  },
  {
   "cell_type": "markdown",
   "metadata": {},
   "source": [
    "### Drop Duplicates\n",
    "Save the Cleaned data-frame also with the variable `df_text`"
   ]
  },
  {
   "cell_type": "code",
   "execution_count": 44,
   "metadata": {},
   "outputs": [],
   "source": [
    "## Write your code here\n",
    "df_text = df_text.drop_duplicates()\n"
   ]
  },
  {
   "cell_type": "markdown",
   "metadata": {},
   "source": [
    "### Target Variable Pre-Processing\n",
    "`target` will be \n",
    " - 0 if score < 3 \n",
    " - 1 otherwise\n",
    " \n"
   ]
  },
  {
   "cell_type": "code",
   "execution_count": 45,
   "metadata": {},
   "outputs": [
    {
     "data": {
      "text/html": [
       "<div>\n",
       "<style scoped>\n",
       "    .dataframe tbody tr th:only-of-type {\n",
       "        vertical-align: middle;\n",
       "    }\n",
       "\n",
       "    .dataframe tbody tr th {\n",
       "        vertical-align: top;\n",
       "    }\n",
       "\n",
       "    .dataframe thead th {\n",
       "        text-align: right;\n",
       "    }\n",
       "</style>\n",
       "<table border=\"1\" class=\"dataframe\">\n",
       "  <thead>\n",
       "    <tr style=\"text-align: right;\">\n",
       "      <th></th>\n",
       "      <th>Text</th>\n",
       "      <th>Score</th>\n",
       "      <th>target</th>\n",
       "    </tr>\n",
       "  </thead>\n",
       "  <tbody>\n",
       "    <tr>\n",
       "      <th>0</th>\n",
       "      <td>I have bought several of the Vitality canned d...</td>\n",
       "      <td>5</td>\n",
       "      <td>1</td>\n",
       "    </tr>\n",
       "    <tr>\n",
       "      <th>1</th>\n",
       "      <td>Product arrived labeled as Jumbo Salted Peanut...</td>\n",
       "      <td>1</td>\n",
       "      <td>0</td>\n",
       "    </tr>\n",
       "    <tr>\n",
       "      <th>2</th>\n",
       "      <td>This is a confection that has been around a fe...</td>\n",
       "      <td>4</td>\n",
       "      <td>1</td>\n",
       "    </tr>\n",
       "    <tr>\n",
       "      <th>3</th>\n",
       "      <td>If you are looking for the secret ingredient i...</td>\n",
       "      <td>2</td>\n",
       "      <td>0</td>\n",
       "    </tr>\n",
       "    <tr>\n",
       "      <th>4</th>\n",
       "      <td>Great taffy at a great price.  There was a wid...</td>\n",
       "      <td>5</td>\n",
       "      <td>1</td>\n",
       "    </tr>\n",
       "  </tbody>\n",
       "</table>\n",
       "</div>"
      ],
      "text/plain": [
       "                                                Text  Score  target\n",
       "0  I have bought several of the Vitality canned d...      5       1\n",
       "1  Product arrived labeled as Jumbo Salted Peanut...      1       0\n",
       "2  This is a confection that has been around a fe...      4       1\n",
       "3  If you are looking for the secret ingredient i...      2       0\n",
       "4  Great taffy at a great price.  There was a wid...      5       1"
      ]
     },
     "execution_count": 45,
     "metadata": {},
     "output_type": "execute_result"
    }
   ],
   "source": [
    "df_text['target']=df_text.Score.apply(lambda x: 0 if x<3 else 1)\n",
    "df_text.head()"
   ]
  },
  {
   "cell_type": "markdown",
   "metadata": {},
   "source": [
    "#### Plot Countplot for target Variable"
   ]
  },
  {
   "cell_type": "code",
   "execution_count": 46,
   "metadata": {},
   "outputs": [
    {
     "data": {
      "text/plain": [
       "<AxesSubplot:xlabel='target', ylabel='count'>"
      ]
     },
     "execution_count": 46,
     "metadata": {},
     "output_type": "execute_result"
    },
    {
     "data": {
      "image/png": "[encoded data removed]",
      "text/plain": [
       "<Figure size 432x288 with 1 Axes>"
      ]
     },
     "metadata": {
      "needs_background": "light"
     },
     "output_type": "display_data"
    }
   ],
   "source": [
    "sns.countplot(x = df_text['target'])"
   ]
  },
  {
   "cell_type": "markdown",
   "metadata": {},
   "source": [
    "Notice how such variance is huge ...   \n",
    "Then we need to down-sample such data ... by which both the positive and negative classes are balanced.\n",
    "\n",
    "### Balance Data Target"
   ]
  },
  {
   "cell_type": "code",
   "execution_count": 47,
   "metadata": {},
   "outputs": [],
   "source": [
    "df_text = df_text.reset_index(drop=True)"
   ]
  },
  {
   "cell_type": "code",
   "execution_count": 48,
   "metadata": {},
   "outputs": [],
   "source": [
    "# Sample from positive reviews Same number of negative reviews\n",
    "NEG_N = df_text.target.value_counts()[0]\n",
    "df_pos = df_text[df_text['target'] == 1]['Text'].sample(NEG_N, replace=False)\n",
    "df_text_balanced = pd.concat([df_text.iloc[df_pos.index], df_text[df_text.target == 0]])\n"
   ]
  },
  {
   "cell_type": "code",
   "execution_count": 49,
   "metadata": {},
   "outputs": [
    {
     "data": {
      "text/plain": [
       "<AxesSubplot:xlabel='target', ylabel='count'>"
      ]
     },
     "execution_count": 49,
     "metadata": {},
     "output_type": "execute_result"
    },
    {
     "data": {
      "image/png": "[encoded data removed]",
      "text/plain": [
       "<Figure size 432x288 with 1 Axes>"
      ]
     },
     "metadata": {
      "needs_background": "light"
     },
     "output_type": "display_data"
    }
   ],
   "source": [
    "## PLot the target again after balancing\n",
    "sns.countplot(x = df_text_balanced['target'])"
   ]
  },
  {
   "cell_type": "markdown",
   "metadata": {},
   "source": [
    "### Text Pre-Processing"
   ]
  },
  {
   "cell_type": "code",
   "execution_count": 50,
   "metadata": {},
   "outputs": [],
   "source": [
    "stop_words = set(stopwords.words('english'))\n",
    "stemmer = SnowballStemmer(\"english\")\n",
    "lemmatizer= WordNetLemmatizer()"
   ]
  },
  {
   "cell_type": "code",
   "execution_count": 51,
   "metadata": {},
   "outputs": [
    {
     "name": "stdout",
     "output_type": "stream",
     "text": [
      "None\n"
     ]
    }
   ],
   "source": [
    "print(stop_words.remove('not'))\n",
    "#stop_words"
   ]
  },
  {
   "cell_type": "code",
   "execution_count": 52,
   "metadata": {},
   "outputs": [
    {
     "name": "stderr",
     "output_type": "stream",
     "text": [
      "D:\\anaaaaacondaaa\\envs\\myenv\\lib\\site-packages\\ipykernel_launcher.py:4: FutureWarning: The default value of regex will change from True to False in a future version.\n",
      "  after removing the cwd from sys.path.\n"
     ]
    },
    {
     "data": {
      "text/html": [
       "<div>\n",
       "<style scoped>\n",
       "    .dataframe tbody tr th:only-of-type {\n",
       "        vertical-align: middle;\n",
       "    }\n",
       "\n",
       "    .dataframe tbody tr th {\n",
       "        vertical-align: top;\n",
       "    }\n",
       "\n",
       "    .dataframe thead th {\n",
       "        text-align: right;\n",
       "    }\n",
       "</style>\n",
       "<table border=\"1\" class=\"dataframe\">\n",
       "  <thead>\n",
       "    <tr style=\"text-align: right;\">\n",
       "      <th></th>\n",
       "      <th>Text</th>\n",
       "      <th>Score</th>\n",
       "      <th>target</th>\n",
       "    </tr>\n",
       "  </thead>\n",
       "  <tbody>\n",
       "    <tr>\n",
       "      <th>125601</th>\n",
       "      <td>wonderful tasting coffee first hestitant pucha...</td>\n",
       "      <td>5</td>\n",
       "      <td>1</td>\n",
       "    </tr>\n",
       "    <tr>\n",
       "      <th>159452</th>\n",
       "      <td>believe worked not like magic increase supply ...</td>\n",
       "      <td>4</td>\n",
       "      <td>1</td>\n",
       "    </tr>\n",
       "    <tr>\n",
       "      <th>213440</th>\n",
       "      <td>fine fine california bay leaf stays wonderfull...</td>\n",
       "      <td>5</td>\n",
       "      <td>1</td>\n",
       "    </tr>\n",
       "    <tr>\n",
       "      <th>43867</th>\n",
       "      <td>husband ordered advice dr oz promoting healthy...</td>\n",
       "      <td>4</td>\n",
       "      <td>1</td>\n",
       "    </tr>\n",
       "    <tr>\n",
       "      <th>14210</th>\n",
       "      <td>nto like coffee dark taste brother loves swear...</td>\n",
       "      <td>4</td>\n",
       "      <td>1</td>\n",
       "    </tr>\n",
       "  </tbody>\n",
       "</table>\n",
       "</div>"
      ],
      "text/plain": [
       "                                                     Text  Score  target\n",
       "125601  wonderful tasting coffee first hestitant pucha...      5       1\n",
       "159452  believe worked not like magic increase supply ...      4       1\n",
       "213440  fine fine california bay leaf stays wonderfull...      5       1\n",
       "43867   husband ordered advice dr oz promoting healthy...      4       1\n",
       "14210   nto like coffee dark taste brother loves swear...      4       1"
      ]
     },
     "execution_count": 52,
     "metadata": {},
     "output_type": "execute_result"
    }
   ],
   "source": [
    "## Clean your reviews using stemmer, lemmatizer & stopword\n",
    "df_text_balanced['Text'] = df_text_balanced['Text'].str.lower()\n",
    "df_text_balanced['Text'] = df_text_balanced['Text'].apply(lambda x: ' '.join([word for word in x.split() if word not in (stop_words)]))\n",
    "df_text_balanced[\"Text\"] = df_text_balanced[\"Text\"].str.replace('[^\\w\\s]','')\n",
    "df_text_balanced.head()"
   ]
  },
  {
   "cell_type": "code",
   "execution_count": 53,
   "metadata": {},
   "outputs": [],
   "source": [
    "df_text_balanced['split'] = df_text_balanced['Text'].str.split()\n"
   ]
  },
  {
   "cell_type": "code",
   "execution_count": 54,
   "metadata": {},
   "outputs": [],
   "source": [
    "df_text_balanced['limmatize'] = df_text_balanced['split'].apply(lambda x: [lemmatizer.lemmatize(y) for y in x])"
   ]
  },
  {
   "cell_type": "code",
   "execution_count": 55,
   "metadata": {},
   "outputs": [
    {
     "data": {
      "text/html": [
       "<div>\n",
       "<style scoped>\n",
       "    .dataframe tbody tr th:only-of-type {\n",
       "        vertical-align: middle;\n",
       "    }\n",
       "\n",
       "    .dataframe tbody tr th {\n",
       "        vertical-align: top;\n",
       "    }\n",
       "\n",
       "    .dataframe thead th {\n",
       "        text-align: right;\n",
       "    }\n",
       "</style>\n",
       "<table border=\"1\" class=\"dataframe\">\n",
       "  <thead>\n",
       "    <tr style=\"text-align: right;\">\n",
       "      <th></th>\n",
       "      <th>Text</th>\n",
       "      <th>Score</th>\n",
       "      <th>target</th>\n",
       "      <th>split</th>\n",
       "      <th>limmatize</th>\n",
       "      <th>stemmer</th>\n",
       "    </tr>\n",
       "  </thead>\n",
       "  <tbody>\n",
       "    <tr>\n",
       "      <th>125601</th>\n",
       "      <td>wonderful tasting coffee first hestitant pucha...</td>\n",
       "      <td>5</td>\n",
       "      <td>1</td>\n",
       "      <td>[wonderful, tasting, coffee, first, hestitant,...</td>\n",
       "      <td>[wonderful, tasting, coffee, first, hestitant,...</td>\n",
       "      <td>[wonder, tast, coffe, first, hestit, puchas, c...</td>\n",
       "    </tr>\n",
       "    <tr>\n",
       "      <th>159452</th>\n",
       "      <td>believe worked not like magic increase supply ...</td>\n",
       "      <td>4</td>\n",
       "      <td>1</td>\n",
       "      <td>[believe, worked, not, like, magic, increase, ...</td>\n",
       "      <td>[believe, worked, not, like, magic, increase, ...</td>\n",
       "      <td>[believ, work, not, like, magic, increas, supp...</td>\n",
       "    </tr>\n",
       "    <tr>\n",
       "      <th>213440</th>\n",
       "      <td>fine fine california bay leaf stays wonderfull...</td>\n",
       "      <td>5</td>\n",
       "      <td>1</td>\n",
       "      <td>[fine, fine, california, bay, leaf, stays, won...</td>\n",
       "      <td>[fine, fine, california, bay, leaf, stay, wond...</td>\n",
       "      <td>[fine, fine, california, bay, leaf, stay, wond...</td>\n",
       "    </tr>\n",
       "    <tr>\n",
       "      <th>43867</th>\n",
       "      <td>husband ordered advice dr oz promoting healthy...</td>\n",
       "      <td>4</td>\n",
       "      <td>1</td>\n",
       "      <td>[husband, ordered, advice, dr, oz, promoting, ...</td>\n",
       "      <td>[husband, ordered, advice, dr, oz, promoting, ...</td>\n",
       "      <td>[husband, order, advic, dr, oz, promot, health...</td>\n",
       "    </tr>\n",
       "    <tr>\n",
       "      <th>14210</th>\n",
       "      <td>nto like coffee dark taste brother loves swear...</td>\n",
       "      <td>4</td>\n",
       "      <td>1</td>\n",
       "      <td>[nto, like, coffee, dark, taste, brother, love...</td>\n",
       "      <td>[nto, like, coffee, dark, taste, brother, love...</td>\n",
       "      <td>[nto, like, coffe, dark, tast, brother, love, ...</td>\n",
       "    </tr>\n",
       "  </tbody>\n",
       "</table>\n",
       "</div>"
      ],
      "text/plain": [
       "                                                     Text  Score  target  \\\n",
       "125601  wonderful tasting coffee first hestitant pucha...      5       1   \n",
       "159452  believe worked not like magic increase supply ...      4       1   \n",
       "213440  fine fine california bay leaf stays wonderfull...      5       1   \n",
       "43867   husband ordered advice dr oz promoting healthy...      4       1   \n",
       "14210   nto like coffee dark taste brother loves swear...      4       1   \n",
       "\n",
       "                                                    split  \\\n",
       "125601  [wonderful, tasting, coffee, first, hestitant,...   \n",
       "159452  [believe, worked, not, like, magic, increase, ...   \n",
       "213440  [fine, fine, california, bay, leaf, stays, won...   \n",
       "43867   [husband, ordered, advice, dr, oz, promoting, ...   \n",
       "14210   [nto, like, coffee, dark, taste, brother, love...   \n",
       "\n",
       "                                                limmatize  \\\n",
       "125601  [wonderful, tasting, coffee, first, hestitant,...   \n",
       "159452  [believe, worked, not, like, magic, increase, ...   \n",
       "213440  [fine, fine, california, bay, leaf, stay, wond...   \n",
       "43867   [husband, ordered, advice, dr, oz, promoting, ...   \n",
       "14210   [nto, like, coffee, dark, taste, brother, love...   \n",
       "\n",
       "                                                  stemmer  \n",
       "125601  [wonder, tast, coffe, first, hestit, puchas, c...  \n",
       "159452  [believ, work, not, like, magic, increas, supp...  \n",
       "213440  [fine, fine, california, bay, leaf, stay, wond...  \n",
       "43867   [husband, order, advic, dr, oz, promot, health...  \n",
       "14210   [nto, like, coffe, dark, tast, brother, love, ...  "
      ]
     },
     "execution_count": 55,
     "metadata": {},
     "output_type": "execute_result"
    }
   ],
   "source": [
    "df_text_balanced['stemmer'] = df_text_balanced['limmatize'].apply(lambda x: [stemmer.stem(y) for y in x])\n",
    "df_text_balanced.head()"
   ]
  },
  {
   "cell_type": "code",
   "execution_count": 56,
   "metadata": {},
   "outputs": [],
   "source": [
    "df_text_balanced.drop(['limmatize','split','Text'], axis='columns', inplace=True)\n"
   ]
  },
  {
   "cell_type": "code",
   "execution_count": 57,
   "metadata": {},
   "outputs": [
    {
     "data": {
      "text/html": [
       "<div>\n",
       "<style scoped>\n",
       "    .dataframe tbody tr th:only-of-type {\n",
       "        vertical-align: middle;\n",
       "    }\n",
       "\n",
       "    .dataframe tbody tr th {\n",
       "        vertical-align: top;\n",
       "    }\n",
       "\n",
       "    .dataframe thead th {\n",
       "        text-align: right;\n",
       "    }\n",
       "</style>\n",
       "<table border=\"1\" class=\"dataframe\">\n",
       "  <thead>\n",
       "    <tr style=\"text-align: right;\">\n",
       "      <th></th>\n",
       "      <th>Score</th>\n",
       "      <th>target</th>\n",
       "      <th>stemmer</th>\n",
       "    </tr>\n",
       "  </thead>\n",
       "  <tbody>\n",
       "    <tr>\n",
       "      <th>125601</th>\n",
       "      <td>5</td>\n",
       "      <td>1</td>\n",
       "      <td>[wonder, tast, coffe, first, hestit, puchas, c...</td>\n",
       "    </tr>\n",
       "    <tr>\n",
       "      <th>159452</th>\n",
       "      <td>4</td>\n",
       "      <td>1</td>\n",
       "      <td>[believ, work, not, like, magic, increas, supp...</td>\n",
       "    </tr>\n",
       "    <tr>\n",
       "      <th>213440</th>\n",
       "      <td>5</td>\n",
       "      <td>1</td>\n",
       "      <td>[fine, fine, california, bay, leaf, stay, wond...</td>\n",
       "    </tr>\n",
       "    <tr>\n",
       "      <th>43867</th>\n",
       "      <td>4</td>\n",
       "      <td>1</td>\n",
       "      <td>[husband, order, advic, dr, oz, promot, health...</td>\n",
       "    </tr>\n",
       "    <tr>\n",
       "      <th>14210</th>\n",
       "      <td>4</td>\n",
       "      <td>1</td>\n",
       "      <td>[nto, like, coffe, dark, tast, brother, love, ...</td>\n",
       "    </tr>\n",
       "  </tbody>\n",
       "</table>\n",
       "</div>"
      ],
      "text/plain": [
       "        Score  target                                            stemmer\n",
       "125601      5       1  [wonder, tast, coffe, first, hestit, puchas, c...\n",
       "159452      4       1  [believ, work, not, like, magic, increas, supp...\n",
       "213440      5       1  [fine, fine, california, bay, leaf, stay, wond...\n",
       "43867       4       1  [husband, order, advic, dr, oz, promot, health...\n",
       "14210       4       1  [nto, like, coffe, dark, tast, brother, love, ..."
      ]
     },
     "execution_count": 57,
     "metadata": {},
     "output_type": "execute_result"
    }
   ],
   "source": [
    "df_text_balanced.head()"
   ]
  },
  {
   "cell_type": "code",
   "execution_count": 58,
   "metadata": {},
   "outputs": [
    {
     "data": {
      "text/html": [
       "<div>\n",
       "<style scoped>\n",
       "    .dataframe tbody tr th:only-of-type {\n",
       "        vertical-align: middle;\n",
       "    }\n",
       "\n",
       "    .dataframe tbody tr th {\n",
       "        vertical-align: top;\n",
       "    }\n",
       "\n",
       "    .dataframe thead th {\n",
       "        text-align: right;\n",
       "    }\n",
       "</style>\n",
       "<table border=\"1\" class=\"dataframe\">\n",
       "  <thead>\n",
       "    <tr style=\"text-align: right;\">\n",
       "      <th></th>\n",
       "      <th>Score</th>\n",
       "      <th>target</th>\n",
       "      <th>stemmer</th>\n",
       "    </tr>\n",
       "  </thead>\n",
       "  <tbody>\n",
       "    <tr>\n",
       "      <th>125601</th>\n",
       "      <td>5</td>\n",
       "      <td>1</td>\n",
       "      <td>wonder tast coffe first hestit puchas coffe ch...</td>\n",
       "    </tr>\n",
       "    <tr>\n",
       "      <th>159452</th>\n",
       "      <td>4</td>\n",
       "      <td>1</td>\n",
       "      <td>believ work not like magic increas suppli stru...</td>\n",
       "    </tr>\n",
       "    <tr>\n",
       "      <th>213440</th>\n",
       "      <td>5</td>\n",
       "      <td>1</td>\n",
       "      <td>fine fine california bay leaf stay wonder arom...</td>\n",
       "    </tr>\n",
       "    <tr>\n",
       "      <th>43867</th>\n",
       "      <td>4</td>\n",
       "      <td>1</td>\n",
       "      <td>husband order advic dr oz promot healthi lifes...</td>\n",
       "    </tr>\n",
       "    <tr>\n",
       "      <th>14210</th>\n",
       "      <td>4</td>\n",
       "      <td>1</td>\n",
       "      <td>nto like coffe dark tast brother love swear gr...</td>\n",
       "    </tr>\n",
       "  </tbody>\n",
       "</table>\n",
       "</div>"
      ],
      "text/plain": [
       "        Score  target                                            stemmer\n",
       "125601      5       1  wonder tast coffe first hestit puchas coffe ch...\n",
       "159452      4       1  believ work not like magic increas suppli stru...\n",
       "213440      5       1  fine fine california bay leaf stay wonder arom...\n",
       "43867       4       1  husband order advic dr oz promot healthi lifes...\n",
       "14210       4       1  nto like coffe dark tast brother love swear gr..."
      ]
     },
     "execution_count": 58,
     "metadata": {},
     "output_type": "execute_result"
    }
   ],
   "source": [
    "df_text_balanced['stemmer'] = df_text_balanced['stemmer'].apply(lambda x: ' '.join([word for word in x]))\n",
    "df_text_balanced.head()"
   ]
  },
  {
   "cell_type": "markdown",
   "metadata": {},
   "source": [
    "### Split Test & Training Data"
   ]
  },
  {
   "cell_type": "code",
   "execution_count": 59,
   "metadata": {},
   "outputs": [
    {
     "data": {
      "text/plain": [
       "((79917,), (34251,))"
      ]
     },
     "execution_count": 59,
     "metadata": {},
     "output_type": "execute_result"
    }
   ],
   "source": [
    "X = df_text_balanced.iloc[:,2].values\n",
    "y = df_text_balanced.iloc[:,1].values\n",
    "X_train, X_test, y_train, y_test = train_test_split(X, y, test_size=0.3, random_state=42)\n",
    "X_train.shape, X_test.shape"
   ]
  },
  {
   "cell_type": "markdown",
   "metadata": {},
   "source": [
    "### Text Embedding\n",
    " - Use `TfidfVectorizer`\n",
    " - `fit` on the training data only\n",
    " - `transform` on training and test "
   ]
  },
  {
   "cell_type": "code",
   "execution_count": 60,
   "metadata": {},
   "outputs": [],
   "source": [
    "## TFIDF embedding for the Description\n",
    "vectorizer = TfidfVectorizer()\n",
    "# fit on training (such vectorizer will be saved for deployment)\n",
    "vectorizer_tfidf=vectorizer.fit(X_train)\n",
    "# transform on training data\n",
    "X_train=vectorizer.transform(X_train)\n",
    "# transform on testing data\n",
    "X_test = vectorizer.transform(X_test)"
   ]
  },
  {
   "cell_type": "code",
   "execution_count": 61,
   "metadata": {},
   "outputs": [
    {
     "data": {
      "text/plain": [
       "((79917, 75604), (34251, 75604))"
      ]
     },
     "execution_count": 61,
     "metadata": {},
     "output_type": "execute_result"
    }
   ],
   "source": [
    "# See the dimensions of your data embeddings before entering to the model\n",
    "X_train.shape, X_test.shape"
   ]
  },
  {
   "cell_type": "markdown",
   "metadata": {},
   "source": [
    "### Modelling"
   ]
  },
  {
   "cell_type": "code",
   "execution_count": 62,
   "metadata": {},
   "outputs": [],
   "source": [
    "from sklearn.ensemble import RandomForestClassifier\n",
    "from sklearn.metrics import accuracy_score"
   ]
  },
  {
   "cell_type": "markdown",
   "metadata": {},
   "source": [
    "##### Sklearn framework steps\n",
    " - init\n",
    " - fit\n",
    " - predict"
   ]
  },
  {
   "cell_type": "code",
   "execution_count": 63,
   "metadata": {},
   "outputs": [
    {
     "name": "stdout",
     "output_type": "stream",
     "text": [
      "Model Accuracy = 84.52%\n"
     ]
    }
   ],
   "source": [
    "## initialize your Model\n",
    "clf = RandomForestClassifier(n_jobs=6)\n",
    "# Fit your Model on the Training Dataset\n",
    "clf.fit(X_train,y_train)\n",
    "# Predict on Test data\n",
    "preds = clf.predict(X_test)\n",
    "# Calculate Model Accuracy\n",
    "acc = accuracy_score(preds, y_test)\n",
    "print(f\"Model Accuracy = {round(acc*100,2)}%\")"
   ]
  },
  {
   "cell_type": "code",
   "execution_count": 64,
   "metadata": {},
   "outputs": [
    {
     "data": {
      "text/plain": [
       "<matplotlib.image.AxesImage at 0x21738052e08>"
      ]
     },
     "execution_count": 64,
     "metadata": {},
     "output_type": "execute_result"
    },
    {
     "data": {
      "image/png": "[encoded data removed]",
      "text/plain": [
       "<Figure size 432x288 with 2 Axes>"
      ]
     },
     "metadata": {
      "needs_background": "light"
     },
     "output_type": "display_data"
    }
   ],
   "source": [
    "cm = confusion_matrix(y_test,preds)\n",
    "class_names = ['positive ','negative']\n",
    "df_cm = pd.DataFrame(cm, index = [i for i in class_names], columns = [i for i in class_names])\n",
    "sns.heatmap(df_cm, annot = True)\n",
    "cmap = plt.cm.Blues\n",
    "plt.imshow(cm, interpolation = 'nearest', cmap = cmap)\n"
   ]
  },
  {
   "cell_type": "markdown",
   "metadata": {},
   "source": [
    "### Raw Instance Prediction"
   ]
  },
  {
   "cell_type": "code",
   "execution_count": 65,
   "metadata": {},
   "outputs": [],
   "source": [
    "def clean_review(text):\n",
    "    stop_words = set(stopwords.words('english'))\n",
    "    stop_words.remove('not')\n",
    "    text = text.lower()\n",
    "    text = text.replace('[^\\w\\s]', '')\n",
    "    text = ' '.join([word for word in text.split() if word not in (stop_words)])\n",
    "    lemmatizer = WordNetLemmatizer()\n",
    "    text = text.split()\n",
    "    text = ' '.join([lemmatizer.lemmatize(w) for w in text])\n",
    "    stemmer = SnowballStemmer(\"english\")\n",
    "    text = text.split()\n",
    "    text = ' '.join([stemmer.stem(w) for w in text])\n",
    "    return text   \n"
   ]
  },
  {
   "cell_type": "code",
   "execution_count": 66,
   "metadata": {},
   "outputs": [],
   "source": [
    "def raw_test(review, model, vectorizer):\n",
    "    # Clean Review\n",
    "    review = clean_review(review)\n",
    "    review_c = review\n",
    "    # Embed review using tf-idf vectorizer\n",
    "    embedding = vectorizer.transform([review_c])\n",
    "    # Predict using your model\n",
    "    prediction = model.predict(embedding)\n",
    "    # Return the Sentiment Prediction\n",
    "    return \"Positive\" if prediction == 1 else \"Negative\""
   ]
  },
  {
   "cell_type": "code",
   "execution_count": 67,
   "metadata": {},
   "outputs": [],
   "source": [
    "review_1 = \"That's a good Dish, Good Job\"\n",
    "review_2 = \"That's the worst Dish ever tasted\"\n"
   ]
  },
  {
   "cell_type": "code",
   "execution_count": 68,
   "metadata": {},
   "outputs": [
    {
     "data": {
      "text/plain": [
       "'Positive'"
      ]
     },
     "execution_count": 68,
     "metadata": {},
     "output_type": "execute_result"
    }
   ],
   "source": [
    "raw_test(review_1, clf, vectorizer_tfidf)"
   ]
  },
  {
   "cell_type": "code",
   "execution_count": 69,
   "metadata": {},
   "outputs": [
    {
     "data": {
      "text/plain": [
       "'Negative'"
      ]
     },
     "execution_count": 69,
     "metadata": {},
     "output_type": "execute_result"
    }
   ],
   "source": [
    "raw_test(review_2, clf, vectorizer_tfidf)"
   ]
  },
  {
   "cell_type": "markdown",
   "metadata": {},
   "source": [
    "### Saving Models for Deployment"
   ]
  },
  {
   "cell_type": "code",
   "execution_count": 70,
   "metadata": {},
   "outputs": [],
   "source": [
    "import pickle"
   ]
  },
  {
   "cell_type": "code",
   "execution_count": 71,
   "metadata": {},
   "outputs": [],
   "source": [
    "model_name = 'rf_model.pk'\n",
    "vectorizer_name = 'tfidf_vectorizer.pk'\n",
    "model_path = os.path.join('/', model_name)\n",
    "vect_path = os.path.join('/', vectorizer_name)\n",
    "pickle.dump(clf, open(model_path, 'wb')) ## Save model\n",
    "pickle.dump(vectorizer_tfidf, open(vect_path, \"wb\")) ## Save tfidf-vectorizer"
   ]
  },
  {
   "cell_type": "markdown",
   "metadata": {},
   "source": [
    "### Load model Again and test them"
   ]
  },
  {
   "cell_type": "code",
   "execution_count": 72,
   "metadata": {},
   "outputs": [],
   "source": [
    "loaded_model = pickle.load(open(model_path, 'rb'))\n",
    "loaded_vect =  pickle.load(open(vect_path, 'rb'))"
   ]
  },
  {
   "cell_type": "code",
   "execution_count": 73,
   "metadata": {},
   "outputs": [
    {
     "data": {
      "text/plain": [
       "'Positive'"
      ]
     },
     "execution_count": 73,
     "metadata": {},
     "output_type": "execute_result"
    }
   ],
   "source": [
    "raw_test(review_1, loaded_model, loaded_vect)"
   ]
  },
  {
   "cell_type": "code",
   "execution_count": 74,
   "metadata": {},
   "outputs": [
    {
     "data": {
      "text/plain": [
       "'Negative'"
      ]
     },
     "execution_count": 74,
     "metadata": {},
     "output_type": "execute_result"
    }
   ],
   "source": [
    "raw_test(review_2, loaded_model, loaded_vect)"
   ]
  },
  {
   "cell_type": "markdown",
   "metadata": {},
   "source": [
    "# Great Job !\n",
    "### Now Deploy your ML model using Streamlit Framework"
   ]
  },
  {
   "cell_type": "code",
   "execution_count": 79,
   "metadata": {},
   "outputs": [
    {
     "name": "stdout",
     "output_type": "stream",
     "text": [
      "Overwriting Food_Review_Streamlit.py\n"
     ]
    }
   ],
   "source": [
    "%%writefile Food_Review_Streamlit.py\n",
    "\n",
    "import nltk # Text libarary\n",
    "import pandas as pd\n",
    "import numpy as np\n",
    "import string # Removing special characters {#, @, ...}\n",
    "import re # Regex Package\n",
    "from nltk.corpus import stopwords # Stopwords\n",
    "from nltk.stem import SnowballStemmer, WordNetLemmatizer # Stemmer & Lemmatizer\n",
    "import pickle\n",
    "import streamlit as st\n",
    "from PIL import Image\n",
    "import os, sys\n",
    "\n",
    "model_path = 'C:/rf_model.pk'\n",
    "vect_path = 'C:/tfidf_vectorizer.pk'\n",
    "loaded_model = pickle.load(open(model_path, 'rb'))\n",
    "loaded_vect =  pickle.load(open(vect_path, 'rb'))\n",
    "\n",
    "def clean_review(text):\n",
    "    stop_words = set(stopwords.words('english'))\n",
    "    stop_words.remove('not')\n",
    "    text = text.lower()\n",
    "    text = text.replace('[^\\w\\s]', '')\n",
    "    text = ' '.join([word for word in text.split() if word not in (stop_words)])\n",
    "    lemmatizer = WordNetLemmatizer()\n",
    "    text = text.split()\n",
    "    text = ' '.join([lemmatizer.lemmatize(w) for w in text])\n",
    "    stemmer = SnowballStemmer(\"english\")\n",
    "    text = text.split()\n",
    "    text = ' '.join([stemmer.stem(w) for w in text])\n",
    "    return text   \n",
    "\n",
    "\n",
    "def raw_test(review, model, vectorizer):\n",
    "    # Clean Review\n",
    "    review = clean_review(review)\n",
    "    review_c = review\n",
    "    # Embed review using tf-idf vectorizer\n",
    "    embedding = vectorizer.transform([review_c])\n",
    "    # Predict using your model\n",
    "    prediction = model.predict(embedding)\n",
    "    # Return the Sentiment Prediction\n",
    "    return \"Positive\" if prediction == 1 else \"Negative\"\n",
    "\n",
    "def main():\n",
    "      # web page title\n",
    "    st.title(\"WElcome in Food review Prediction\")\n",
    "      \n",
    "    html_temp = \"\"\"\n",
    "    <div style =\"background-color:gray;padding:15px\">\n",
    "    <h1 style =\"color:white;text-align:center;\">Review prediction</h1>\n",
    "    </div>\n",
    "    \"\"\"\n",
    "    st.markdown(html_temp, unsafe_allow_html = True)\n",
    "      \n",
    "    # Take the text data \n",
    "    \n",
    "    review = st.text_input(\"Enter your review to predict : \")\n",
    "    x =\"\"\n",
    "    \n",
    "    if st.button(\"Predict\"):\n",
    "        x = raw_test(review, loaded_model, loaded_vect)\n",
    "    st.success('The prediction is {}'.format(x))\n",
    "     \n",
    "if __name__=='__main__':\n",
    "    main()"
   ]
  },
  {
   "cell_type": "code",
   "execution_count": null,
   "metadata": {},
   "outputs": [],
   "source": [
    "!streamlit run Food_Review_Streamlit.py\n"
   ]
  },
  {
   "cell_type": "code",
   "execution_count": null,
   "metadata": {},
   "outputs": [],
   "source": []
  },
  {
   "cell_type": "code",
   "execution_count": null,
   "metadata": {},
   "outputs": [],
   "source": []
  }
 ],
 "metadata": {
  "kernelspec": {
   "display_name": "Python 3",
   "language": "python",
   "name": "python3"
  },
  "language_info": {
   "codemirror_mode": {
    "name": "ipython",
    "version": 3
   },
   "file_extension": ".py",
   "mimetype": "text/x-python",
   "name": "python",
   "nbconvert_exporter": "python",
   "pygments_lexer": "ipython3",
   "version": "3.7.10"
  }
 },
 "nbformat": 4,
 "nbformat_minor": 2
}
